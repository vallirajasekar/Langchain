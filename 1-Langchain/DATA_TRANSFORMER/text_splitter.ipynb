{
 "cells": [
  {
   "cell_type": "code",
   "execution_count": 1,
   "metadata": {},
   "outputs": [],
   "source": [
    "from langchain_community.document_loaders import PyPDFLoader"
   ]
  },
  {
   "cell_type": "code",
   "execution_count": 18,
   "metadata": {},
   "outputs": [],
   "source": [
    "loader=PyPDFLoader('Project+-+Predictive+Modeling++%281%29+%281%29 (1).pdf')\n",
    "docs=loader.load()"
   ]
  },
  {
   "cell_type": "code",
   "execution_count": 22,
   "metadata": {},
   "outputs": [
    {
     "data": {
      "text/plain": [
       "langchain_core.documents.base.Document"
      ]
     },
     "execution_count": 22,
     "metadata": {},
     "output_type": "execute_result"
    }
   ],
   "source": [
    "type(docs[0])"
   ]
  },
  {
   "cell_type": "markdown",
   "metadata": {},
   "source": [
    "## How to recrusively split text by Character"
   ]
  },
  {
   "cell_type": "code",
   "execution_count": 11,
   "metadata": {},
   "outputs": [],
   "source": [
    "from langchain_text_splitters import RecursiveCharacterTextSplitter"
   ]
  },
  {
   "cell_type": "code",
   "execution_count": 31,
   "metadata": {},
   "outputs": [],
   "source": [
    "text_splitter=RecursiveCharacterTextSplitter(chunk_size=500,chunk_overlap=50)\n",
    "final_documents=text_splitter.split_documents(docs)"
   ]
  },
  {
   "cell_type": "code",
   "execution_count": 32,
   "metadata": {},
   "outputs": [
    {
     "name": "stdout",
     "output_type": "stream",
     "text": [
      "page_content='Multivariate Analysis  Multivariate descriptive displays or plots are designed to reveal the relationship among several variables simulataneously.. As was the case when examining relationships among pairs of variables, there are several basic characteristics of the relationship among sets of variables that are of interest. Some of the Interesting Multivariate Analysis are pair plot,Heat Map, Facet etc Pairwise Analysis     A pairs plot allows us to see both distribution of single variables and' metadata={'source': 'Project+-+Predictive+Modeling++%281%29+%281%29 (1).pdf', 'page': 9}\n",
      "page_content='On above Analysing only one Independent Categorical Variable SP500 with only one Dependent Variable of sales.We can Identify that the sales is higher in SP500 member company than comparing with the the non member of SP500 The other most fascinating thing is that SP500 member company has higher capital compared to Non SP500 companies' metadata={'source': 'Project+-+Predictive+Modeling++%281%29+%281%29 (1).pdf', 'page': 8}\n"
     ]
    }
   ],
   "source": [
    "print(final_documents[14])\n",
    "print(final_documents[13])"
   ]
  },
  {
   "cell_type": "code",
   "execution_count": 41,
   "metadata": {},
   "outputs": [
    {
     "name": "stdout",
     "output_type": "stream",
     "text": [
      "page_content='Before Converting the categorical into the Numerical Variable  \n",
      "\n",
      "     After Converting those Categorical into the      numerical Variable  \n",
      "Before Splitting the Data, the most essential thing is to Segregate the Independent and Dependent Variable  in the Data' metadata={'source': 'Project+-+Predictive+Modeling++%281%29+%281%29 (1).pdf', 'page': 48}\n"
     ]
    }
   ],
   "source": [
    "print(final_documents[67])"
   ]
  },
  {
   "cell_type": "code",
   "execution_count": 29,
   "metadata": {},
   "outputs": [],
   "source": [
    "speech=\"\"\n",
    "with open('speech.txt') as f:\n",
    "    speech=f.read()"
   ]
  },
  {
   "cell_type": "code",
   "execution_count": 37,
   "metadata": {},
   "outputs": [],
   "source": [
    "text_splitter=RecursiveCharacterTextSplitter(chunk_size=50,chunk_overlap=10)"
   ]
  },
  {
   "cell_type": "code",
   "execution_count": 38,
   "metadata": {},
   "outputs": [],
   "source": [
    "text=text_splitter.create_documents([speech])"
   ]
  },
  {
   "cell_type": "code",
   "execution_count": 39,
   "metadata": {},
   "outputs": [
    {
     "data": {
      "text/plain": [
       "[Document(page_content='Pablo Ruiz Picasso[a][b] (25 October 1881 – 8'),\n",
       " Document(page_content='1881 – 8 April 1973) was a Spanish painter,'),\n",
       " Document(page_content='painter, sculptor, printmaker, ceramicist, and'),\n",
       " Document(page_content='and theatre designer who spent most of his adult'),\n",
       " Document(page_content='his adult life in France. One of the most'),\n",
       " Document(page_content='the most influential artists of the 20th century,'),\n",
       " Document(page_content='century, he is known for co-founding the Cubist'),\n",
       " Document(page_content='Cubist movement, the invention of constructed'),\n",
       " Document(page_content='sculpture,[8][9] the co-invention of collage, and'),\n",
       " Document(page_content='and for the wide variety of styles that he helped'),\n",
       " Document(page_content='he helped develop and explore. Among his most'),\n",
       " Document(page_content='his most famous works are the proto-Cubist Les'),\n",
       " Document(page_content=\"Les Demoiselles d'Avignon (1907) and the anti-war\"),\n",
       " Document(page_content='anti-war painting Guernica (1937), a dramatic'),\n",
       " Document(page_content='dramatic portrayal of the bombing of Guernica by'),\n",
       " Document(page_content='by German and Italian air forces during the'),\n",
       " Document(page_content='the Spanish Civil War.'),\n",
       " Document(page_content='Picasso demonstrated extraordinary artistic'),\n",
       " Document(page_content='artistic talent in his early years, painting in a'),\n",
       " Document(page_content='in a naturalistic manner through his childhood'),\n",
       " Document(page_content='childhood and adolescence. During the first'),\n",
       " Document(page_content='the first decade of the 20th century, his style'),\n",
       " Document(page_content='his style changed as he experimented with'),\n",
       " Document(page_content='with different theories, techniques, and ideas.'),\n",
       " Document(page_content='ideas. After 1906, the Fauvist work of the older'),\n",
       " Document(page_content='the older artist Henri Matisse motivated Picasso'),\n",
       " Document(page_content='Picasso to explore more radical styles, beginning'),\n",
       " Document(page_content='beginning a fruitful rivalry between the two'),\n",
       " Document(page_content='the two artists, who subsequently were often'),\n",
       " Document(page_content='often paired by critics as the leaders of modern'),\n",
       " Document(page_content='of modern art.[10][11][12][13]'),\n",
       " Document(page_content=\"Picasso's output, especially in his early career,\"),\n",
       " Document(page_content='career, is often periodized. While the names of'),\n",
       " Document(page_content='names of many of his later periods are debated,'),\n",
       " Document(page_content='debated, the most commonly accepted periods in'),\n",
       " Document(page_content='in his work are the Blue Period (1901–1904), the'),\n",
       " Document(page_content='the Rose Period (1904–1906), the'),\n",
       " Document(page_content='the African-influenced Period (1907–1909),'),\n",
       " Document(page_content='Analytic Cubism (1909–1912), and Synthetic Cubism'),\n",
       " Document(page_content='Cubism (1912–1919), also referred to as the'),\n",
       " Document(page_content=\"to as the Crystal period. Much of Picasso's work\"),\n",
       " Document(page_content='work of the late 1910s and early 1920s is in a'),\n",
       " Document(page_content='is in a neoclassical style, and his work in the'),\n",
       " Document(page_content='in the mid-1920s often has characteristics of'),\n",
       " Document(page_content='of Surrealism. His later work often combines'),\n",
       " Document(page_content='combines elements of his earlier styles.'),\n",
       " Document(page_content='Exceptionally prolific throughout the course of'),\n",
       " Document(page_content='course of his long life, Picasso achieved'),\n",
       " Document(page_content='achieved universal renown and immense fortune for'),\n",
       " Document(page_content='for his revolutionary artistic accomplishments,'),\n",
       " Document(page_content='and became one of the best-known figures in'),\n",
       " Document(page_content='in 20th-century art')]"
      ]
     },
     "execution_count": 39,
     "metadata": {},
     "output_type": "execute_result"
    }
   ],
   "source": [
    "text"
   ]
  }
 ],
 "metadata": {
  "kernelspec": {
   "display_name": "Python 3",
   "language": "python",
   "name": "python3"
  },
  "language_info": {
   "codemirror_mode": {
    "name": "ipython",
    "version": 3
   },
   "file_extension": ".py",
   "mimetype": "text/x-python",
   "name": "python",
   "nbconvert_exporter": "python",
   "pygments_lexer": "ipython3",
   "version": "3.10.0"
  }
 },
 "nbformat": 4,
 "nbformat_minor": 2
}
